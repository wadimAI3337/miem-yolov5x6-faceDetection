{
  "cells": [
    {
      "cell_type": "code",
      "source": [
        "import cv2\n",
        "import numpy as np\n",
        "import matplotlib.pyplot as plt\n",
        "\n",
        "def draw_bounding_boxes(image_path, annot_path):\n",
        "    # Загрузка изображения\n",
        "    img = cv2.imread(image_path)\n",
        "    height, width = img.shape[:2]\n",
        "\n",
        "    # Чтение данных об ограничивающих прямоугольниках\n",
        "    with open(annot_path, 'r') as f:\n",
        "        data = f.readlines()\n",
        "\n",
        "    for line in data:\n",
        "        line = line.strip().split()\n",
        "        class_id, x_center, y_center, w, h = map(float, line)\n",
        "\n",
        "        # Преобразование нормализованных значений обратно в пиксели\n",
        "        x_center *= width\n",
        "        y_center *= height\n",
        "        w *= width\n",
        "        h *= height\n",
        "\n",
        "        # Преобразование координат центра в координаты верхнего левого угла\n",
        "        xmin = int(x_center - w / 2)\n",
        "        ymin = int(y_center - h / 2)\n",
        "\n",
        "        # Преобразование ширины и высоты в координаты нижнего правого угла\n",
        "        xmax = int(x_center + w / 2)\n",
        "        ymax = int(y_center + h / 2)\n",
        "\n",
        "        # Рисуем ограничивающий прямоугольник на изображении\n",
        "        cv2.rectangle(img, (xmin, ymin), (xmax, ymax), (0, 255, 0), 2)\n",
        "\n",
        "    im_rgb = cv2.cvtColor(img, cv2.COLOR_BGR2RGB)\n",
        "    plt.imshow(im_rgb)\n",
        "    plt.show()"
      ],
      "metadata": {
        "id": "fFnPi2CzrE2d"
      },
      "execution_count": null,
      "outputs": []
    },
    {
      "cell_type": "code",
      "source": [
        "image_path = 'C:/Users/vshamalo/VKR/Yolo/SECOND_1280re/images/train/6711.jpg'\n",
        "annot_path = 'C:/Users/vshamalo/VKR/Yolo/SECOND_1280re/labels/train/6711.txt'\n",
        "draw_bounding_boxes(image_path, annot_path)"
      ],
      "metadata": {
        "id": "URqT6P3QrFdx"
      },
      "execution_count": null,
      "outputs": []
    },
    {
      "cell_type": "code",
      "source": [
        "from IPython.display import clear_output\n",
        "\n",
        "def setup_yolov5_repo(repo_url, requirements_path, yaml_path, train_dir, val_dir, class_count, class_names):\n",
        "    \"\"\"\n",
        "    Клонирует репозиторий YOLOv5, устанавливает требуемые зависимости и создает dataset.yaml файл.\n",
        "\n",
        "    :param repo_url: str, URL репозитория YOLOv5\n",
        "    :param requirements_path: str, путь к файлу с требованиями\n",
        "    :param yaml_path: str, путь к файлу dataset.yaml, который будет создан\n",
        "    :param train_dir: str, путь к каталогу с тренировочными изображениями\n",
        "    :param val_dir: str, путь к каталогу с валидационными изображениями\n",
        "    :param class_count: int, количество классов в наборе данных\n",
        "    :param class_names: list, список имен классов\n",
        "    \"\"\"\n",
        "\n",
        "    !git clone {repo_url}\n",
        "    !pip install -qr {requirements_path}\n",
        "    %cd yolov5\n",
        "    clear_output()\n",
        "\n",
        "    with open(yaml_path, 'w') as yaml_file:\n",
        "        yaml_file.write(f\"train: {train_dir}\\n\")\n",
        "        yaml_file.write(f\"val: {val_dir}\\n\")\n",
        "        yaml_file.write(f\"nc: {class_count}\\n\")\n",
        "        yaml_file.write(f\"names: {class_names}\\n\")\n",
        "\n",
        "# Пример использования функции:\n",
        "repo_url = \"https://github.com/ultralytics/yolov5.git\"\n",
        "requirements_path = \"C:/Users/vshamalo/VKR/Yolo/yolov5/requirements.txt\"\n",
        "yaml_path = \"C:/Users/vshamalo/VKR/Yolo/yolov5/data/dataset.yaml\"\n",
        "train_dir = \"C:/Users/vshamalo/VKR/Yolo/SECOND_1280с/images/train\"\n",
        "val_dir = \"C:/Users/vshamalo/VKR/Yolo/SECOND_1280с/images/valid\"\n",
        "class_count = 1\n",
        "class_names = [\"Face\"]\n",
        "\n",
        "setup_yolov5_repo(repo_url, requirements_path, yaml_path, train_dir, val_dir, class_count, class_names)"
      ],
      "metadata": {
        "id": "rnR7XNaXrJJy"
      },
      "execution_count": null,
      "outputs": []
    },
    {
      "cell_type": "code",
      "source": [
        "# Пример использования функции:\n",
        "repo_url = \"https://github.com/ultralytics/yolov5.git\"\n",
        "requirements_path = \"C:/Users/vshamalo/VKR/Yolo/yolov5/requirements.txt\"\n",
        "yaml_path = \"C:/Users/vshamalo/VKR/Yolo/yolov5/data/dataset.yaml\"\n",
        "train_dir = \"C:/Users/vshamalo/VKR/Yolo/SECOND_1280re/images/train\"\n",
        "val_dir = \"C:/Users/vshamalo/VKR/Yolo/SECOND_1280re/images/valid\"\n",
        "class_count = 1\n",
        "class_names = [\"Face\"]\n",
        "\n",
        "with open(yaml_path, 'w') as yaml_file:\n",
        "    yaml_file.write(f\"train: {train_dir}\\n\")\n",
        "    yaml_file.write(f\"val: {val_dir}\\n\")\n",
        "    yaml_file.write(f\"nc: {class_count}\\n\")\n",
        "    yaml_file.write(f\"names: {class_names}\\n\")"
      ],
      "metadata": {
        "id": "BY2EqYXXrKgg"
      },
      "execution_count": null,
      "outputs": []
    },
    {
      "cell_type": "code",
      "source": [
        "!python train.py --img 1280 --batch 4 --workers 0 --epochs 50\\\n",
        "  --weights C:/Users/vshamalo/VKR/Yolo/yolov5/runs/train/exp4/weights/best.pt\\\n",
        "  --data C:/Users/vshamalo/VKR/Yolo/yolov5/data/dataset.yaml"
      ],
      "metadata": {
        "id": "zIilB3fprMYv"
      },
      "execution_count": null,
      "outputs": []
    }
  ],
  "metadata": {
    "accelerator": "GPU",
    "colab": {
      "provenance": [],
      "gpuType": "T4"
    },
    "kernelspec": {
      "display_name": "Python 3",
      "name": "python3"
    },
    "language_info": {
      "name": "python"
    }
  },
  "nbformat": 4,
  "nbformat_minor": 0
}