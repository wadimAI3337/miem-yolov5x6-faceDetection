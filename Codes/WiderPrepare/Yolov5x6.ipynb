{
  "cells": [
    {
      "cell_type": "code",
      "execution_count": 1,
      "metadata": {
        "id": "7H6BDcE-4ssq"
      },
      "outputs": [],
      "source": [
        "import os\n",
        "import numpy as np\n",
        "import matplotlib.pyplot as plt\n",
        "from glob import glob as g\n",
        "import cv2\n",
        "from tqdm.notebook import tqdm\n",
        "from shutil import copy, move"
      ]
    },
    {
      "cell_type": "code",
      "source": [
        "import os\n",
        "import cv2\n",
        "from shutil import copy\n",
        "from tqdm import tqdm\n",
        "\n",
        "def create_dataset(images_dir, labels_dir, label_text_path, images_address):\n",
        "    os.makedirs(images_dir, exist_ok=True)\n",
        "    os.makedirs(labels_dir, exist_ok=True)\n",
        "    annots = open(label_text_path)\n",
        "    lines = annots.readlines()\n",
        "    names = [x for x in lines if 'jpg' in x]\n",
        "    indices = [lines.index(x) for x in names]\n",
        "\n",
        "    for n in tqdm(range(len(names))):\n",
        "        i = indices[n]\n",
        "        name = lines[i].rstrip()\n",
        "        old_img_path = os.path.join(images_address, name)\n",
        "        name = name.split('/')[-1]\n",
        "        label_path = os.path.join(labels_dir, name.split('.')[0] + '.txt')\n",
        "        img_path = os.path.join(images_dir, name)\n",
        "\n",
        "        num_objs = int(lines[i + 1].rstrip())\n",
        "        bboxs = lines[i + 2: i + 2 + num_objs]\n",
        "        bboxs = list(map(lambda x: x.rstrip(), bboxs))\n",
        "        bboxs = list(map(lambda x: x.split()[:4], bboxs))\n",
        "\n",
        "        img = cv2.imread(old_img_path)\n",
        "        img_h, img_w, _ = img.shape\n",
        "\n",
        "        with open(label_path, 'w') as f:\n",
        "            count = 0\n",
        "            for bbx in bboxs:\n",
        "                x1 = int(bbx[0])\n",
        "                y1 = int(bbx[1])\n",
        "                w = int(bbx[2])\n",
        "                h = int(bbx[3])\n",
        "\n",
        "                x = (x1 + w // 2) / img_w\n",
        "                y = (y1 + h // 2) / img_h\n",
        "                w = w / img_w\n",
        "                h = h / img_h\n",
        "\n",
        "                if w * h * 100 > 2:\n",
        "                    yolo_line = f'{0} {x} {y} {w} {h}\\n'\n",
        "                    f.write(yolo_line)\n",
        "                    count += 1\n",
        "\n",
        "        if count > 0:\n",
        "            copy(old_img_path, img_path)\n",
        "        else:\n",
        "            os.remove(label_path)\n",
        "\n",
        "\n",
        "train_images_dir = 'newDataset/images/train'\n",
        "train_labels_dir = 'newDataset/labels/train'\n",
        "train_label_text_path = 'wider_face_split/wider_face_train_bbx_gt.txt'\n",
        "train_images_address = 'WIDER_train/images'\n",
        "\n",
        "val_images_dir = 'newDataset/images/val'\n",
        "val_labels_dir = 'newDataset/labels/val'\n",
        "val_label_text_path = 'wider_face_split/wider_face_val_bbx_gt.txt'\n",
        "val_images_address = 'WIDER_val/images'\n",
        "\n",
        "create_dataset(train_images_dir, train_labels_dir, train_label_text_path, train_images_address)\n",
        "create_dataset(val_images_dir, val_labels_dir, val_label_text_path, val_images_address)"
      ],
      "metadata": {
        "id": "pKYxKtTyqRz7"
      },
      "execution_count": null,
      "outputs": []
    },
    {
      "cell_type": "code",
      "source": [
        "import cv2\n",
        "import glob\n",
        "from tqdm import tqdm\n",
        "import os\n",
        "\n",
        "def resize_image(input_path, output_path, target_width=1280):\n",
        "    \"\"\"\n",
        "    Изменение размера изображения с сохранением пропорций и запись в новый файл.\n",
        "\n",
        "    :param input_path: str, путь к исходному изображению\n",
        "    :param output_path: str, путь для сохранения измененного изображения\n",
        "    :param target_width: int, новая ширина изображения (по умолчанию 640)\n",
        "    \"\"\"\n",
        "    image = cv2.imread(input_path)\n",
        "    height, width, _ = image.shape\n",
        "    target_height = int(height / width * target_width)\n",
        "    resized_image = cv2.resize(image, (target_width, target_height), interpolation=cv2.INTER_AREA)\n",
        "    cv2.imwrite(output_path, resized_image)\n",
        "\n",
        "def resize_all_images(images_directory):\n",
        "    \"\"\"\n",
        "    Изменение размера всех изображений в указанном каталоге.\n",
        "\n",
        "    :param images_directory: str, путь к каталогу с изображениями\n",
        "    \"\"\"\n",
        "    image_paths = glob.glob(os.path.join(images_directory, '*'))\n",
        "    for img_path in tqdm(image_paths):\n",
        "        resize_image(img_path, img_path)"
      ],
      "metadata": {
        "id": "YwKo_U8wqSxb"
      },
      "execution_count": null,
      "outputs": []
    },
    {
      "cell_type": "code",
      "source": [
        "import numpy as np\n",
        "\n",
        "def read_random_file_lines(file_names):\n",
        "    \"\"\"\n",
        "    Открытие случайного файла из списка имен и чтение всех строк файла.\n",
        "\n",
        "    :param file_names: list, список имен файлов\n",
        "    :return: list, список прочитанных строк\n",
        "    \"\"\"\n",
        "    \n",
        "    random_index = np.random.randint(0, len(file_names))\n",
        "\n",
        "    with open(file_names[random_index]) as file:\n",
        "        lines = file.readlines()\n",
        "\n",
        "    return lines\n",
        "\n",
        "\n",
        "file_lines = read_random_file_lines(names)\n",
        "print(file_lines)"
      ],
      "metadata": {
        "id": "N3Gqr39WqWqr"
      },
      "execution_count": null,
      "outputs": []
    },
    {
      "cell_type": "code",
      "source": [
        "import cv2\n",
        "import numpy as np\n",
        "import matplotlib.pyplot as plt\n",
        "\n",
        "def display_random_image_with_bounding_boxes(file_names):\n",
        "    \"\"\"\n",
        "    Отображает случайное изображение с ограничивающими рамками.\n",
        "\n",
        "    :param file_names: list, список имен файлов\n",
        "    \"\"\"\n",
        "    # Выбор случайного индекса из списка имен файлов\n",
        "    random_index = np.random.randint(0, len(file_names))\n",
        "\n",
        "    # Чтение данных ограничивающих рамок из файла\n",
        "    with open(file_names[random_index]) as file:\n",
        "        lines = file.readlines()\n",
        "        classes = [int(line[0]) for line in lines]\n",
        "        objects = [line.rstrip()[2:].split() for line in lines]\n",
        "\n",
        "    # Загрузка соответствующего изображения\n",
        "    img_path = file_names[random_index].replace('txt', 'jpg').replace('labels', 'images')\n",
        "    img = cv2.imread(img_path)\n",
        "\n",
        "    # Рисование ограничивающих рамок на изображении\n",
        "    for class_, obj in zip(classes, objects):\n",
        "        x, y, w, h = [float(coord) for coord in obj]\n",
        "        img_h, img_w = img.shape[:2]\n",
        "        x = int(x * img_w)\n",
        "        w = int(w * img_w)\n",
        "        y = int(y * img_h)\n",
        "        h = int(h * img_h)\n",
        "        color = (255, 100, 50)\n",
        "        cv2.rectangle(img, (int(x - w/2), int(y - h/2)), (int(x + w/2), int(y + h/2)), color, 4)\n",
        "\n",
        "    # Отображение изображения\n",
        "    plt.figure(figsize=(8, 8))\n",
        "    plt.imshow(img[:, :, ::-1])\n",
        "    plt.axis('off')\n",
        "    plt.show()\n",
        "\n",
        "    print(f'number of bounding boxes : {len(classes)}')\n",
        "    print(f'Shape of the image : {img.shape}')\n",
        "\n",
        "# Пример использования:\n",
        "display_random_image_with_bounding_boxes(names)"
      ],
      "metadata": {
        "id": "YEgUiLpJqXEA"
      },
      "execution_count": null,
      "outputs": []
    },
    {
      "cell_type": "code",
      "source": [
        "os.makedirs('Yolo/images', exist_ok= True)\n",
        "os.makedirs('Yolo/labels', exist_ok= True)\n",
        "os.makedirs('Yolo/images/train', exist_ok= True)\n",
        "os.makedirs('Yolo/images/val', exist_ok= True)\n",
        "os.makedirs('Yolo/labels/train', exist_ok= True)\n",
        "os.makedirs('Yolo/labels/val', exist_ok= True)"
      ],
      "metadata": {
        "id": "cGB60Cygqa1W"
      },
      "execution_count": null,
      "outputs": []
    },
    {
      "cell_type": "code",
      "source": [
        "import os\n",
        "from shutil import copy\n",
        "from tqdm import tqdm\n",
        "\n",
        "def split_train_val_data(src_labels_dir, src_images_dir, dest_labels_dir, dest_images_dir, val_ratio=0.85, random_seed=101):\n",
        "    np.random.seed(random_seed)\n",
        "\n",
        "    for subfolder in ['train', 'val']:\n",
        "        src_image_subfolder = os.path.join(src_images_dir, subfolder)\n",
        "        src_label_subfolder = os.path.join(src_labels_dir, subfolder)\n",
        "        dest_image_subfolder = os.path.join(dest_images_dir, subfolder)\n",
        "        dest_label_subfolder = os.path.join(dest_labels_dir, subfolder)\n",
        "\n",
        "        image_names = os.listdir(src_image_subfolder)\n",
        "        random_vector = np.random.rand(len(image_names))\n",
        "\n",
        "        for i, img_name in tqdm(enumerate(image_names)):\n",
        "            random_value = random_vector[i]\n",
        "\n",
        "            if random_value > val_ratio:  # Validation\n",
        "                copy(os.path.join(src_image_subfolder, img_name), os.path.join(dest_image_subfolder, img_name))\n",
        "                copy(os.path.join(src_label_subfolder, img_name.split('.')[0] + '.txt'), os.path.join(dest_label_subfolder, img_name.split('.')[0] + '.txt'))\n",
        "            else:  # Train\n",
        "                copy(os.path.join(src_image_subfolder, img_name), os.path.join(dest_image_subfolder, img_name))\n",
        "                copy(os.path.join(src_label_subfolder, img_name.split('.')[0] + '.txt'), os.path.join(dest_label_subfolder, img_name.split('.')[0] + '.txt'))\n",
        "\n",
        "src_labels_address = 'newDataset/labels/'\n",
        "src_imgs_address = 'newDataset/images/'\n",
        "dest_labels_address = 'Yolo/labels/'\n",
        "dest_imgs_address = 'Yolo/images/'\n",
        "\n",
        "split_train_val_data(src_labels_address, src_imgs_address, dest_labels_address, dest_imgs_address)"
      ],
      "metadata": {
        "id": "d00MPXuYqbst"
      },
      "execution_count": null,
      "outputs": []
    },
    {
      "cell_type": "code",
      "source": [
        "names = g('Yolo/images/train/*')\n",
        "print(f'There are {len(names)}  images')"
      ],
      "metadata": {
        "id": "hzuydIbBqd84"
      },
      "execution_count": null,
      "outputs": []
    },
    {
      "cell_type": "code",
      "source": [
        "import os\n",
        "from IPython.display import clear_output\n",
        "\n",
        "def setup_yolov5_repo(repo_url, requirements_path, yaml_path, train_dir, val_dir, class_count, class_names):\n",
        "    \"\"\"\n",
        "    Клонирует репозиторий YOLOv5, устанавливает требуемые зависимости и создает dataset.yaml файл.\n",
        "\n",
        "    :param repo_url: str, URL репозитория YOLOv5\n",
        "    :param requirements_path: str, путь к файлу с требованиями\n",
        "    :param yaml_path: str, путь к файлу dataset.yaml, который будет создан\n",
        "    :param train_dir: str, путь к каталогу с тренировочными изображениями\n",
        "    :param val_dir: str, путь к каталогу с валидационными изображениями\n",
        "    :param class_count: int, количество классов в наборе данных\n",
        "    :param class_names: list, список имен классов\n",
        "    \"\"\"\n",
        "\n",
        "    # Клонирование репозитория YOLOv5 и установка требуемых зависимостей\n",
        "    !git clone {repo_url}\n",
        "    !pip install -qr {requirements_path}\n",
        "    %cd yolov5\n",
        "    clear_output()\n",
        "\n",
        "    # Создание dataset.yaml файла\n",
        "    with open(yaml_path, 'w') as yaml_file:\n",
        "        yaml_file.write(f\"train: {train_dir}\\n\")\n",
        "        yaml_file.write(f\"val: {val_dir}\\n\")\n",
        "        yaml_file.write(f\"nc: {class_count}\\n\")\n",
        "        yaml_file.write(f\"names: {class_names}\\n\")\n",
        "\n",
        "# Пример использования функции:\n",
        "repo_url = \"https://github.com/ultralytics/yolov5.git\"\n",
        "requirements_path = \"yolov5/requirements.txt\"\n",
        "yaml_path = \"data/dataset.yaml\"\n",
        "train_dir = \"newDataset/images/train\"\n",
        "val_dir = \"newDataset/images/val\"\n",
        "class_count = 1\n",
        "class_names = [\"Face\"]\n",
        "\n",
        "setup_yolov5_repo(repo_url, requirements_path, yaml_path, train_dir, val_dir, class_count, class_names)"
      ],
      "metadata": {
        "id": "yIG-jbNMqe8s"
      },
      "execution_count": null,
      "outputs": []
    },
    {
      "cell_type": "code",
      "source": [
        "import requests\n",
        "def download_file(url, filename):\n",
        "    response = requests.get(url, stream=True)\n",
        "    with open(filename, 'wb') as f:\n",
        "        for chunk in response.iter_content(chunk_size=8192):\n",
        "            if chunk:\n",
        "                f.write(chunk)\n",
        "\n",
        "yolov5s_url = 'https://github.com/ultralytics/yolov5/releases/download/v5.0/yolov5x6.pt'\n",
        "yolov5s_filename = 'yolov5x6.pt'\n",
        "\n",
        "print(f'Downloading {yolov5s_filename}...')\n",
        "download_file(yolov5s_url, yolov5s_filename)\n",
        "print(f'{yolov5s_filename} is ready.')"
      ],
      "metadata": {
        "id": "ZIPTcvAkqgkM"
      },
      "execution_count": null,
      "outputs": []
    },
    {
      "cell_type": "code",
      "source": [
        "!python train.py --img 1280 --batch 3 --workers 2 --epochs 50\\\n",
        "  --weights yolov5x6.pt\\\n",
        "  --data data/dataset.yaml"
      ],
      "metadata": {
        "id": "SyScO6YEqhv-"
      },
      "execution_count": null,
      "outputs": []
    }
  ],
  "metadata": {
    "accelerator": "GPU",
    "colab": {
      "provenance": [],
      "gpuType": "T4"
    },
    "kernelspec": {
      "display_name": "Python 3",
      "name": "python3"
    },
    "language_info": {
      "name": "python"
    }
  },
  "nbformat": 4,
  "nbformat_minor": 0
}